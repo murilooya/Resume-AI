{
  "nbformat": 4,
  "nbformat_minor": 0,
  "metadata": {
    "colab": {
      "provenance": [],
      "authorship_tag": "ABX9TyNZKgYwAOf3M54mT8Rjddsj",
      "include_colab_link": true
    },
    "kernelspec": {
      "name": "python3",
      "display_name": "Python 3"
    },
    "language_info": {
      "name": "python"
    }
  },
  "cells": [
    {
      "cell_type": "markdown",
      "metadata": {
        "id": "view-in-github",
        "colab_type": "text"
      },
      "source": [
        "<a href=\"https://colab.research.google.com/github/murilooya/Resume-AI/blob/main/ResumeAI.ipynb\" target=\"_parent\"><img src=\"https://colab.research.google.com/assets/colab-badge.svg\" alt=\"Open In Colab\"/></a>"
      ]
    },
    {
      "cell_type": "code",
      "execution_count": 1,
      "metadata": {
        "id": "ubWMFb7tUxB7"
      },
      "outputs": [],
      "source": [
        "!pip install -q -U google-generativeai"
      ]
    },
    {
      "cell_type": "code",
      "source": [
        "import google.generativeai as genai\n",
        "\n",
        "from google.colab import userdata\n",
        "\n",
        "API_KEY = userdata.get('API_KEY')\n",
        "genai.configure(api_key=API_KEY)"
      ],
      "metadata": {
        "colab": {
          "base_uri": "https://localhost:8080/"
        },
        "id": "tMqw3qyEU0yb",
        "outputId": "883c3a7d-b0dd-4c60-cd14-c1b8159e817d"
      },
      "execution_count": 5,
      "outputs": [
        {
          "output_type": "stream",
          "name": "stdout",
          "text": [
            "Mounted at /content/drive\n"
          ]
        }
      ]
    },
    {
      "cell_type": "code",
      "source": [
        "gen_config = {\n",
        "    \"temperature\": 1,\n",
        "}\n",
        "\n",
        "safe_settings = {\n",
        "    \"HARASSMENT\": \"BLOCK_MEDIUM_AND_ABOVE\",\n",
        "    \"HATE\": \"BLOCK_MEDIUM_AND_ABOVE\",\n",
        "    \"SEXUAL\": \"BLOCK_MEDIUM_AND_ABOVE\",\n",
        "    \"DANGEROUS\": \"BLOCK_MEDIUM_AND_ABOVE\"\n",
        "}"
      ],
      "metadata": {
        "id": "FZ2yVlt2U4Be"
      },
      "execution_count": 4,
      "outputs": []
    },
    {
      "cell_type": "code",
      "source": [
        "model = genai.GenerativeModel(model_name = \"gemini-pro-vision\",\n",
        "                              generation_config=gen_config,\n",
        "                              safety_settings=safe_settings)"
      ],
      "metadata": {
        "id": "DKhxutlKU5qc"
      },
      "execution_count": null,
      "outputs": []
    },
    {
      "cell_type": "code",
      "source": [
        "description = '''\n",
        "    Você está avaliando o currículo de uma pessoa e precisa dar dicas de como melhorar o currículo. Sabendo que um bom currículo precisa passar pelo ATS avalie isso, além\n",
        "    de bullet points, numeros para descrição de resultados. Caso o cliente não possua um currículo com várias experiências, diga como conseguir essas experiências baseada em sua área.\n",
        "    O currículo de John Doe é um ótimo exemplo de currículo bom. E dê uma nota de 0 a 10\n",
        "    Responda em portugues\n",
        "'''"
      ],
      "metadata": {
        "id": "s7O1KX5LU7Zn"
      },
      "execution_count": null,
      "outputs": []
    },
    {
      "cell_type": "code",
      "source": [
        "chat = model.start_chat(history=[])\n",
        "\n",
        "my_resume = genai.upload_file('Examples\\Resume.pdf')\n",
        "\n",
        "prompt = [description, genai.upload_file(path='Examples\\JohnDoe.pdf'), my_resume]"
      ],
      "metadata": {
        "id": "NzIlgoJcU8Rt"
      },
      "execution_count": null,
      "outputs": []
    },
    {
      "cell_type": "code",
      "source": [
        "response = model.generate_content(prompt)\n",
        "print(response.text)"
      ],
      "metadata": {
        "id": "UwuiygD_U9rf"
      },
      "execution_count": null,
      "outputs": []
    }
  ]
}